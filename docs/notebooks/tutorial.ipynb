{
 "cells": [
  {
   "cell_type": "markdown",
   "metadata": {},
   "source": [
    "## *사용상 부주의로 인한 책임은 사용자에게 있습니다*\n",
    "# kw_condition\n",
    " - [키움증권 조건검색 유튜브 가이드](https://www.youtube.com/watch?v=THCpQya4bXE&t=189s&ab_channel=%EC%B0%BD%EC%9B%90%EA%B0%9C%EB%AF%B8TV)\n",
    "\n",
    "## 개발 환경  \n",
    " - 설치 Python 3.9.13 32bit\n",
    " - PySide2 5.15 >= (poetry 패키지 툴로 자동 설치)\n",
    " - 설치 [키움증권 Open API+](https://www.kiwoom.com/h/customer/download/VOpenApiInfoView?dummyVal=0)  \n",
    " - 파이썬 패키지 관리툴 poetry 로 패키지 자동 설치 ([가이드](https://python-poetry.org/docs/basic-usage/))\n",
    " \n",
    "\n",
    " ## 개발 문서  \n",
    " - [키움 오픈 API pdf 매뉴얼](https://download.kiwoom.com/web/openapi/kiwoom_openapi_plus_devguide_ver_1.5.pdf)\n",
    "\n",
    "## 참고 소스 \n",
    " - from https://github.com/sculove/QWebview-plus\n",
    " - from https://github.com/elbakramer/koapy\n",
    "\n",
    "\n",
    "## 개발 환경 설정 \n",
    "~~~~\n",
    "# poetry 설치 (using pipx)\n",
    "> python -m pip install pipx\n",
    "> python -m pipx ensurepath\n",
    "> pipx install poetry\n",
    "\n",
    "# poetry virtualenv 환경, 프로젝트 내부 경로로 설정 \n",
    "> poetry config virtualenvs.in-project true\n",
    "> poetry config virtualenvs.path \"./.venv\"\n",
    "\n",
    "# poetry 32bit python 사용토록 설정\n",
    "> poetry env use /path/to/32bit_python/python.exe\n",
    "\n",
    "# 종속 패키지 설치 \n",
    "> poetry install\n",
    "~~~~\n",
    "\n",
    "## 사용 방법\n"
   ]
  },
  {
   "cell_type": "markdown",
   "metadata": {},
   "source": [
    " ### 0. python 실행 경로 확인 \n",
    "    - python 가상 환경을 사용 중이라면 가상 환경의 path 가 맞는지 확인한다. \n"
   ]
  },
  {
   "cell_type": "code",
   "execution_count": 1,
   "metadata": {},
   "outputs": [
    {
     "name": "stdout",
     "output_type": "stream",
     "text": [
      "d:\\1git\\kw_condition\\.venv\\Scripts\\python.exe\n"
     ]
    }
   ],
   "source": [
    "%gui qt5\n",
    "%matplotlib inline\n",
    "\n",
    "import matplotlib.pyplot as plt\n",
    "import pandas as pd\n",
    "import logging\n",
    "\n",
    "log = logging.getLogger('kw')\n",
    "handler = logging.StreamHandler()\n",
    "log.setLevel(logging.DEBUG)\n",
    "handler.setFormatter(logging.Formatter( '%(asctime)s [%(levelname)s] %(message)s - %(name)s:%(funcName)s:%(lineno)d' ) )\n",
    "log.addHandler( handler ) \n",
    "\n",
    "import sys\n",
    "print(sys.executable)"
   ]
  },
  {
   "cell_type": "markdown",
   "metadata": {},
   "source": [
    "### 1. 객체 생성"
   ]
  },
  {
   "cell_type": "code",
   "execution_count": 2,
   "metadata": {},
   "outputs": [
    {
     "name": "stderr",
     "output_type": "stream",
     "text": [
      "2022-09-07 16:58:10,984 [DEBUG] make instance - kw:<cell line: 7>:8\n"
     ]
    }
   ],
   "source": [
    "from kw_condition import KiwoomOpenApiPlus\n",
    "from kw_condition.utils import common_util\n",
    "\n",
    "from PySide2.QtWidgets import QApplication\n",
    "\n",
    "myApp = None\n",
    "if isinstance(QApplication.instance(), type(None)):\n",
    "    log.debug('make instance')\n",
    "    myApp = QApplication([])\n",
    "else:\n",
    "    log.debug(\"use already\")\n",
    "    myApp = QApplication.instance()\n",
    "\n",
    "kw_obj = KiwoomOpenApiPlus()"
   ]
  },
  {
   "cell_type": "markdown",
   "metadata": {},
   "source": [
    "### 2. 서버접속\n",
    "* 자동로그인이 설정되어 있는 경우 로그인이 자동으로 처리 되며, 그렇지 않은 경우 팝업 창에서 수동으로 아이디, 비밀번호 정보를 입력해야함 \n",
    "- TODO\n",
    "    * 자동 로그인 설정되지 않은 상태서 로그인 정보를 외부에서 입력한 경우 매크로로 자동처리 할수 있도록 해야함 pywinauto"
   ]
  },
  {
   "cell_type": "code",
   "execution_count": 3,
   "metadata": {},
   "outputs": [
    {
     "name": "stderr",
     "output_type": "stream",
     "text": [
      "2022-09-07 16:58:11,104 [DEBUG]  - kw:try_connect:1191\n",
      "2022-09-07 16:58:11,125 [DEBUG]  - kw:base_state_entered:307\n",
      "2022-09-07 16:58:11,126 [DEBUG]  - kw:init_entered:317\n",
      "2022-09-07 16:58:11,129 [DEBUG]  - kw:sub_state_entered:312\n",
      "2022-09-07 16:58:11,130 [DEBUG]  - kw:tr_state_entered:364\n",
      "2022-09-07 16:58:11,131 [DEBUG]  - kw:tr_init_entered:375\n",
      "2022-09-07 16:58:11,131 [DEBUG]  - kw:order_state_entered:369\n",
      "2022-09-07 16:58:11,131 [DEBUG]  - kw:order_init_entered:395\n",
      "2022-09-07 16:58:11,132 [DEBUG]  - kw:disconnected_entered:323\n",
      "2022-09-07 16:58:14,476 [INFO] 0 - kw:_OnEventConnect:457\n",
      "2022-09-07 16:58:14,478 [DEBUG]  - kw:connected_entered:329\n",
      "2022-09-07 16:58:14,480 [INFO] account count: 1, keyboard_boan: 1, firewall: 2 - kw:connected_entered:338\n",
      "2022-09-07 16:58:14,506 [DEBUG]  - kw:tr_standby_entered:380\n",
      "2022-09-07 16:58:14,507 [DEBUG]  - kw:order_standby_entered:400\n"
     ]
    }
   ],
   "source": [
    "kw_obj.try_connect()\n",
    "common_util.process_qt_events(kw_obj.is_connected, 60)"
   ]
  },
  {
   "cell_type": "markdown",
   "metadata": {},
   "source": [
    "### 3. 서버 접속 상태 확인 "
   ]
  },
  {
   "cell_type": "code",
   "execution_count": 4,
   "metadata": {},
   "outputs": [
    {
     "data": {
      "text/plain": [
       "True"
      ]
     },
     "execution_count": 4,
     "metadata": {},
     "output_type": "execute_result"
    }
   ],
   "source": [
    "kw_obj.is_connected()"
   ]
  },
  {
   "cell_type": "markdown",
   "metadata": {},
   "source": [
    "### 4. 코드 번호를 통해 종목 이름 확인 "
   ]
  },
  {
   "cell_type": "code",
   "execution_count": 5,
   "metadata": {},
   "outputs": [
    {
     "data": {
      "text/plain": [
       "'005930'"
      ]
     },
     "execution_count": 5,
     "metadata": {},
     "output_type": "execute_result"
    }
   ],
   "source": [
    "name = \"삼성전자\"\n",
    "code = kw_obj.code_by_names[name]\n",
    "code "
   ]
  },
  {
   "cell_type": "markdown",
   "metadata": {},
   "source": [
    "### 5. 계좌 정보확인"
   ]
  },
  {
   "cell_type": "code",
   "execution_count": 6,
   "metadata": {},
   "outputs": [],
   "source": [
    "account_list = kw_obj.get_account_list()\n",
    "\n",
    "account_num = kw_obj.get_first_account()"
   ]
  },
  {
   "cell_type": "markdown",
   "metadata": {},
   "source": [
    "### 6. TR (주식기본정보요청) - Single Data"
   ]
  },
  {
   "cell_type": "markdown",
   "metadata": {},
   "source": [
    "아래 처럼 직접 TR 요청에 필요한 입력값을 설정해 요청하고, 이후 들어오는 이벤트 또한 직접 처리해주는 방식으로 사용할 수 있다."
   ]
  },
  {
   "cell_type": "code",
   "execution_count": 7,
   "metadata": {},
   "outputs": [
    {
     "name": "stderr",
     "output_type": "stream",
     "text": [
      "2022-09-07 16:58:14,801 [DEBUG]  - kw:tr_waiting_entered:387\n",
      "2022-09-07 16:58:14,802 [INFO] {'rqname': '주식기본정보요청', 'trcode': 'opt10001', 'screen_no': '9199', 'prev_next': '0001', 'inputs': {'종목코드': '005930'}} - kw:request_transaction:197\n",
      "2022-09-07 16:58:14,843 [DEBUG] screen_no: 9199, rq_name: 주식기본정보요청, tr_code: opt10001, record_name: , prev_next: 0 - kw:_OnReceiveTrData:513\n",
      "2022-09-07 16:58:14,844 [DEBUG] 기준가:                57100 - kw:_OnReceiveTrData:565\n"
     ]
    },
    {
     "data": {
      "text/plain": [
       "['005930', '+74200', '-40000', '57100']"
      ]
     },
     "execution_count": 7,
     "metadata": {},
     "output_type": "execute_result"
    }
   ],
   "source": [
    "rqname = '주식기본정보요청'\n",
    "trcode = 'opt10001'\n",
    "screen_no = '0001'  # 화면번호, 0000 과 9000 이상을 제외한 4자리 숫자 임의로 지정, screen_no 생략한 경우 임의로 화면 번호 지정 \n",
    "\n",
    "inputs = {'종목코드': '005930'}\n",
    "\n",
    "kw_obj.add_transaction(rqname, trcode, inputs, screen_no)\n",
    "\n",
    "common_util.process_qt_events(kw_obj.has_transaction_result(rqname), 5)\n",
    "\n",
    "# TR result 를 get 해야 다시 동일 rqname 으로 재요청 가능함 \n",
    "kw_obj.get_transaction_result(rqname) \n"
   ]
  },
  {
   "cell_type": "markdown",
   "metadata": {},
   "source": [
    "### 7. TR(주식일봉차트조회요청) - Multi Data  "
   ]
  },
  {
   "cell_type": "code",
   "execution_count": 8,
   "metadata": {},
   "outputs": [
    {
     "name": "stderr",
     "output_type": "stream",
     "text": [
      "2022-09-07 16:58:15,070 [DEBUG]  - kw:tr_standby_entered:380\n",
      "2022-09-07 16:58:15,072 [DEBUG]  - kw:tr_waiting_entered:387\n",
      "2022-09-07 16:58:15,074 [INFO] {'rqname': '주식일봉차트조회요청', 'trcode': 'opt10081', 'screen_no': '9198', 'prev_next': 0, 'inputs': {'종목코드': '005930', '기준일자': '20220907', '수정주가구분': '1'}} - kw:request_transaction:197\n",
      "2022-09-07 16:58:15,153 [DEBUG] screen_no: 9198, rq_name: 주식일봉차트조회요청, tr_code: opt10081, record_name: , prev_next: 2 - kw:_OnReceiveTrData:513\n",
      "2022-09-07 16:58:15,222 [DEBUG] 거래량:             23395726 - kw:_OnReceiveTrData:565\n"
     ]
    },
    {
     "name": "stdout",
     "output_type": "stream",
     "text": [
      "600\n"
     ]
    },
    {
     "data": {
      "text/plain": [
       "[['', '20200410', '48950', '49250', '48650', '49250', '17839111'],\n",
       " ['', '20200409', '49750', '49800', '48700', '49100', '22628058'],\n",
       " ['', '20200408', '49600', '49750', '48600', '48600', '25010314'],\n",
       " ['', '20200407', '49650', '50200', '49000', '49600', '31524034'],\n",
       " ['', '20200406', '47500', '48800', '47250', '48700', '23395726']]"
      ]
     },
     "execution_count": 8,
     "metadata": {},
     "output_type": "execute_result"
    }
   ],
   "source": [
    "import datetime\n",
    "\n",
    "rqname = '주식일봉차트조회요청'\n",
    "trcode = 'opt10081'\n",
    "\n",
    "current_time_str = datetime.datetime.now().strftime('%Y%m%d')\n",
    "\n",
    "inputs = {'종목코드': '005930', '기준일자' : current_time_str, \"수정주가구분\": '1'}\n",
    "\n",
    "kw_obj.add_transaction(rqname, trcode, inputs)\n",
    "\n",
    "common_util.process_qt_events(kw_obj.has_transaction_result(rqname), 5)\n",
    "\n",
    "# result 를 get 해야 다시 동일 rqname 으로 재요청 가능함 \n",
    "\n",
    "daily_list = kw_obj.get_transaction_result(rqname)\n",
    "print( len(daily_list) )\n",
    "daily_list[-5: ] "
   ]
  },
  {
   "cell_type": "markdown",
   "metadata": {},
   "source": [
    "### 7. TR(주식일봉차트조회요청) - Multi Data - 연속 조회 "
   ]
  },
  {
   "cell_type": "code",
   "execution_count": 9,
   "metadata": {},
   "outputs": [
    {
     "name": "stderr",
     "output_type": "stream",
     "text": [
      "2022-09-07 16:58:15,346 [DEBUG]  - kw:tr_standby_entered:380\n",
      "2022-09-07 16:58:15,349 [DEBUG]  - kw:tr_waiting_entered:387\n",
      "2022-09-07 16:58:15,350 [INFO] {'rqname': '주식일봉차트조회요청', 'trcode': 'opt10081', 'screen_no': '9197', 'prev_next': 2, 'inputs': {'종목코드': '005930', '기준일자': '20220907', '수정주가구분': '1'}} - kw:request_transaction:197\n",
      "2022-09-07 16:58:15,389 [DEBUG] screen_no: 9197, rq_name: 주식일봉차트조회요청, tr_code: opt10081, record_name: , prev_next: 2 - kw:_OnReceiveTrData:513\n",
      "2022-09-07 16:58:15,456 [DEBUG] 거래량:              9776550 - kw:_OnReceiveTrData:565\n"
     ]
    },
    {
     "name": "stdout",
     "output_type": "stream",
     "text": [
      "1200\n"
     ]
    },
    {
     "data": {
      "text/plain": [
       "[['', '20171101', '57500', '57500', '56180', '57220', '14510250'],\n",
       " ['', '20171031', '54060', '55440', '53500', '55080', '13381550'],\n",
       " ['', '20171030', '53780', '54320', '53700', '54040', '8196150'],\n",
       " ['', '20171027', '52400', '53320', '52140', '53080', '7392500'],\n",
       " ['', '20171026', '53720', '53900', '52400', '52400', '9776550']]"
      ]
     },
     "execution_count": 9,
     "metadata": {},
     "output_type": "execute_result"
    }
   ],
   "source": [
    "import datetime\n",
    "\n",
    "rqname = '주식일봉차트조회요청'\n",
    "trcode = 'opt10081'\n",
    "\n",
    "current_time_str = datetime.datetime.now().strftime('%Y%m%d')\n",
    "\n",
    "inputs = {'종목코드': '005930', '기준일자' : current_time_str, \"수정주가구분\": '1'}\n",
    "\n",
    "# 연속 조회시 prev_next 값을 2로 입력한다.  \n",
    "kw_obj.add_transaction(rqname, trcode, inputs, prev_next=2 )\n",
    "\n",
    "common_util.process_qt_events(kw_obj.has_transaction_result(rqname), 5)\n",
    "\n",
    "# result 를 get 해야 다시 동일 rqname 으로 재요청 가능함 \n",
    "daily_list.extend( kw_obj.get_transaction_result(rqname) ) \n",
    "print( len(daily_list) )\n",
    "daily_list[ -5:]\n",
    "\n",
    "\n",
    "\n"
   ]
  },
  {
   "cell_type": "markdown",
   "metadata": {},
   "source": [
    "### 8. 일봉 차트 출력 샘플"
   ]
  },
  {
   "cell_type": "code",
   "execution_count": 10,
   "metadata": {},
   "outputs": [
    {
     "name": "stderr",
     "output_type": "stream",
     "text": [
      "d:\\1git\\kw_condition\\.venv\\lib\\site-packages\\mplfinance\\_arg_validators.py:36: UserWarning: \n",
      "\n",
      " ================================================================= \n",
      "\n",
      "   WARNING: YOU ARE PLOTTING SO MUCH DATA THAT IT MAY NOT BE\n",
      "            POSSIBLE TO SEE DETAILS (Candles, Ohlc-Bars, Etc.)\n",
      "   For more information see:\n",
      "   - https://github.com/matplotlib/mplfinance/wiki/Plotting-Too-Much-Data\n",
      "   \n",
      "   TO SILENCE THIS WARNING, set `type='line'` in `mpf.plot()`\n",
      "   OR set kwarg `warn_too_much_data=N` where N is an integer \n",
      "   LARGER than the number of data points you want to plot.\n",
      "\n",
      " ================================================================ \n",
      "  warnings.warn('\\n\\n ================================================================= '+\n"
     ]
    },
    {
     "name": "stdout",
     "output_type": "stream",
     "text": [
      "             Open   High    Low  Close    Volume\n",
      "Date                                            \n",
      "2017-10-26  53720  53900  52400  52400   9776550\n",
      "2017-10-27  52400  53320  52140  53080   7392500\n",
      "2017-10-30  53780  54320  53700  54040   8196150\n",
      "2017-10-31  54060  55440  53500  55080  13381550\n",
      "2017-11-01  57500  57500  56180  57220  14510250\n"
     ]
    },
    {
     "data": {
      "image/png": "[encoded data removed]",
      "text/plain": [
       "<Figure size 800x575 with 4 Axes>"
      ]
     },
     "metadata": {},
     "output_type": "display_data"
    }
   ],
   "source": [
    "import mplfinance as mpf\n",
    "\n",
    "daily_df = pd.DataFrame( daily_list, columns=[\"StockCode\", \"Date\", \"Open\", \"High\", \"Low\", \"Close\", \"Volume\"] ) \n",
    "\n",
    "# 일봉 조회의 경우 종목 코드가 2번째 row 부터 공백이므로 삭제 \n",
    "daily_df.drop(columns='StockCode', axis =1, inplace = True)\n",
    "\n",
    "# string date -> datetime \n",
    "daily_df['Date'] = pd.to_datetime( daily_df['Date'], format = '%Y%m%d') \n",
    "\n",
    "# str to int\n",
    "selected_cols = [\"Open\", \"High\", \"Low\", \"Close\", \"Volume\"]\n",
    "daily_df[ selected_cols ] = daily_df[selected_cols].astype('int')\n",
    "\n",
    "daily_df = daily_df.set_index('Date')\n",
    "\n",
    "daily_df = daily_df.sort_values(by= 'Date')\n",
    "\n",
    "print(daily_df.head(5))\n",
    "\n",
    "# 5, 10 , 20 , 60 일 평균 선 추가 \n",
    "mpf.plot(daily_df, type='candle', mav=(5, 10, 20, 60), volume= True)\n",
    "\n"
   ]
  },
  {
   "cell_type": "markdown",
   "metadata": {},
   "source": [
    "### 9. 전종목 일봉 Excel 출력\n",
    "전체 종목의 일봉 데이터를 Excel 로 만든다 \n",
    "\n",
    "주의사항: 과도한 조회는 오류 팝업 발생 후 재접속 해야 하므로 주의!"
   ]
  },
  {
   "cell_type": "code",
   "execution_count": 11,
   "metadata": {},
   "outputs": [],
   "source": [
    "import datetime\n",
    "import pandas as pd\n",
    "import time\n",
    "\n",
    "current_time_str = datetime.datetime.now().strftime('%Y%m%d')\n",
    "\n",
    "for code in kw_obj.code_by_names.values():\n",
    "    trcode = 'opt10081'\n",
    "    stock_name = kw_obj.getMasterCodeName( code )\n",
    "    rqname = '{}: 주식일봉차트조회요청'.format( stock_name ) \n",
    "\n",
    "    inputs = {'종목코드': '{}'.format( code ), '기준일자' : current_time_str, \"수정주가구분\": '1'}\n",
    "\n",
    "    daily_list = []\n",
    "    prev_next = 0\n",
    "\n",
    "    while False:\n",
    "        kw_obj.add_transaction(rqname, trcode, inputs, prev_next = prev_next)\n",
    "        common_util.process_qt_events(kw_obj.has_transaction_result(rqname), 5)\n",
    "        \n",
    "        has_additional_data = kw_obj.has_transaction_additional_data(rqname)\n",
    "\n",
    "        # result 를 get 해야 다시 동일 rqname 으로 재요청 가능함 \n",
    "        daily_list.extend( kw_obj.get_transaction_result(rqname) )\n",
    "\n",
    "        if( has_additional_data == True ):\n",
    "            prev_next = 2\n",
    "        else:\n",
    "\n",
    "            daily_df = pd.DataFrame( daily_list, columns=[\"StockCode\", \"Date\", \"Open\", \"High\", \"Low\", \"Close\", \"Volume\"] )     \n",
    "\n",
    "            # 일봉 조회의 경우 종목 코드가 2번째 row 부터 공백이므로 삭제 \n",
    "            daily_df.drop(columns='StockCode', axis =1, inplace = True)\n",
    "\n",
    "            # string date -> datetime \n",
    "            daily_df['Date'] = pd.to_datetime( daily_df['Date'], format = '%Y%m%d') \n",
    "\n",
    "            # str to int\n",
    "            selected_cols = [\"Open\", \"High\", \"Low\", \"Close\", \"Volume\"]\n",
    "            daily_df[ selected_cols ] = daily_df[selected_cols].astype('int')\n",
    "\n",
    "            daily_df = daily_df.set_index('Date')\n",
    "\n",
    "            daily_df = daily_df.sort_values(by= 'Date')\n",
    "\n",
    "            print(daily_df.head(2))\n",
    "\n",
    "            # Excel 생성 \n",
    "            daily_df.to_excel('{}({}).xlsx'.format( stock_name, code ) )\n",
    "            time.sleep(10)\n",
    "\n",
    "            break"
   ]
  },
  {
   "cell_type": "markdown",
   "metadata": {},
   "source": [
    "### 10. TR(계좌평가잔고내역조회요청) - Multi Data "
   ]
  },
  {
   "cell_type": "code",
   "execution_count": 12,
   "metadata": {},
   "outputs": [
    {
     "name": "stderr",
     "output_type": "stream",
     "text": [
      "2022-09-07 16:58:18,018 [DEBUG]  - kw:tr_standby_entered:380\n",
      "2022-09-07 16:58:18,019 [DEBUG]  - kw:tr_waiting_entered:387\n",
      "2022-09-07 16:58:18,020 [INFO] {'rqname': '계좌평가잔고내역요청', 'trcode': 'opw00018', 'screen_no': '9196', 'prev_next': 0, 'inputs': {'계좌번호': '4175351811', '비밀번호': '', '비밀번호입력매체구분': '00', '조회구분': '1'}} - kw:request_transaction:197\n",
      "2022-09-07 16:58:18,110 [INFO] screen_no: 9196, rq_name: 계좌평가잔고내역요청, tr_code: opw00018, msg: [100000] 조회가 완료되었습니다 - kw:_OnReceiveMsg:485\n",
      "2022-09-07 16:58:18,112 [DEBUG] screen_no: 9196, rq_name: 계좌평가잔고내역요청, tr_code: opw00018, record_name: , prev_next:  - kw:_OnReceiveTrData:513\n",
      "2022-09-07 16:58:18,114 [DEBUG] 현재가: 000000000886 - kw:_OnReceiveTrData:565\n"
     ]
    },
    {
     "name": "stdout",
     "output_type": "stream",
     "text": [
      "2\n"
     ]
    },
    {
     "data": {
      "text/plain": [
       "[['서울식품',\n",
       "  'A004410',\n",
       "  '000000000000249',\n",
       "  '000000000246',\n",
       "  '000000000000010',\n",
       "  '000000000000010',\n",
       "  '000000000242'],\n",
       " ['KD',\n",
       "  'A044180',\n",
       "  '000000000000966',\n",
       "  '000000000886',\n",
       "  '000000000000001',\n",
       "  '000000000000001',\n",
       "  '000000000886']]"
      ]
     },
     "execution_count": 12,
     "metadata": {},
     "output_type": "execute_result"
    }
   ],
   "source": [
    "    rqname = '계좌평가잔고내역요청'\n",
    "    trcode = 'opw00018'\n",
    "\n",
    "    inputs = {'계좌번호': kw_obj.get_first_account(), '비밀번호' : '', '비밀번호입력매체구분': '00', '조회구분': '1' }\n",
    "\n",
    "    kw_obj.add_transaction(rqname, trcode, inputs)\n",
    "\n",
    "    common_util.process_qt_events(kw_obj.has_transaction_result(rqname), 5)\n",
    "\n",
    "    # result 를 get 해야 다시 동일 rqname 으로 재요청 가능함 \n",
    "\n",
    "    jango = kw_obj.get_transaction_result(rqname)\n",
    "    print( len(jango) )\n",
    "    jango[-5: ] "
   ]
  },
  {
   "cell_type": "markdown",
   "metadata": {},
   "source": [
    "### 11. 조건 검색 (사용자 설정 조건 리스트 읽기 from HTS)\n",
    "예시의 정상동작을 위해서는 아래에서 사용되는 조건들과 같은 이름을 가지는 조건들이 미리 저장되어 있어야 한다.\n",
    "\n",
    "참고로 조건들을 편집하고 저장하는건 영웅문 HTS 내부에서만 가능하기 때문에 따로 HTS 를 열어 편집해주어야 한다."
   ]
  },
  {
   "cell_type": "code",
   "execution_count": 13,
   "metadata": {},
   "outputs": [
    {
     "name": "stderr",
     "output_type": "stream",
     "text": [
      "2022-09-07 16:58:18,335 [DEBUG] ret: 1, msg: [OK] 사용자 조건검색식 읽기 - kw:_OnReceiveConditionVer:684\n",
      "2022-09-07 16:58:18,342 [DEBUG]  - kw:tr_standby_entered:380\n"
     ]
    },
    {
     "name": "stdout",
     "output_type": "stream",
     "text": [
      "{'장초반': 1, '휴식': 2, '장후반': 0, '이탈3': 4, '이탈15': 6, '새조건명': 3, '새조건명2': 5}\n"
     ]
    }
   ],
   "source": [
    "kw_obj.load_condition_names()\n",
    "common_util.process_qt_events(kw_obj.has_condition_names, 5)\n",
    "print( kw_obj.get_condition_names() )\n"
   ]
  },
  {
   "cell_type": "markdown",
   "metadata": {},
   "source": [
    "### 12. 조건검색 (사용자 조건과 일치하는 종목 리턴)\n",
    "\n",
    "위에서 서버로부터 조건명을 읽어오면 조건명을 입력하여, \n",
    "조건명에 해당하는 종목리스트를 얻어 온다 "
   ]
  },
  {
   "cell_type": "code",
   "execution_count": 14,
   "metadata": {},
   "outputs": [
    {
     "name": "stderr",
     "output_type": "stream",
     "text": [
      "2022-09-07 16:58:18,447 [DEBUG] scrNo: 9195, codeList: 001570;095500;, conditionName: 장초반 index: 1, next: 0 - kw:_OnReceiveTrCondition:721\n",
      "2022-09-07 16:58:18,450 [INFO] condition list add: 001570 금양 - kw:_OnReceiveTrCondition:731\n",
      "2022-09-07 16:58:18,451 [INFO] condition list add: 095500 미래나노텍 - kw:_OnReceiveTrCondition:731\n"
     ]
    },
    {
     "name": "stdout",
     "output_type": "stream",
     "text": [
      "['001570', '095500']\n"
     ]
    }
   ],
   "source": [
    "condition_name = '장초반'\n",
    "kw_obj.request_condition(condition_name)\n",
    "common_util.process_qt_events(kw_obj.has_transaction_result('condition'), 5)\n",
    "codes = kw_obj.get_transaction_result('condition')\n",
    "print(codes)\n",
    "\n"
   ]
  },
  {
   "cell_type": "markdown",
   "metadata": {},
   "source": [
    "### 13. 실시간 조건 검색 "
   ]
  },
  {
   "cell_type": "markdown",
   "metadata": {},
   "source": [
    "### 14. 주문 처리(시장가 매수)"
   ]
  },
  {
   "cell_type": "code",
   "execution_count": 15,
   "metadata": {},
   "outputs": [
    {
     "name": "stderr",
     "output_type": "stream",
     "text": [
      "2022-09-07 16:58:18,502 [DEBUG]  - kw:order_waiting_entered:407\n",
      "2022-09-07 16:58:18,503 [INFO] {'rqname': '1주 시장가 신규 매수', 'screen_no': '9194', 'account_no': '4175351811', 'order_type': 1, 'code': '004410', 'quantity': 1, 'price': 0, 'quote_type': '03', 'original_order_no': ''} - kw:request_order:278\n",
      "2022-09-07 16:58:18,584 [INFO] screen_no: 9194, rq_name: 1주 시장가 신규 매수, tr_code: KOA_NORMAL_BUY_KP_ORD, msg: [505217] 장종료되었습니다 - kw:_OnReceiveMsg:485\n",
      "2022-09-07 16:58:18,587 [DEBUG] screen_no: 9194, rq_name: 1주 시장가 신규 매수, tr_code: KOA_NORMAL_BUY_KP_ORD, record_name: , prev_next:  - kw:_OnReceiveTrData:513\n",
      "2022-09-07 16:58:18,588 [WARNING] TR Receive not implemented!  - kw:_OnReceiveTrData:518\n",
      "2022-09-07 16:58:18,811 [DEBUG]  - kw:order_standby_entered:400\n"
     ]
    },
    {
     "name": "stdout",
     "output_type": "stream",
     "text": [
      "time out!\n"
     ]
    }
   ],
   "source": [
    "    request_name = \"1주 시장가 신규 매수\"  # 사용자 구분명, 구분가능한 임의의 문자열\n",
    "    account_no = kw_obj.get_first_account()   # 계좌번호 10자리, 여기서는 계좌번호 목록에서 첫번째로 발견한 계좌번호로 매수처리\n",
    "    order_type = 1  # 주문유형, 1:신규매수\n",
    "    code = \"004410\"  # 종목코드, 서울식품 종목코드 (싼거)\n",
    "    quantity = 1  # 주문수량, 1주 매수\n",
    "    price = 0  # 주문가격, 시장가 매수는 가격 설정 의미 없으므로 기본값 0 으로 설정\n",
    "    quote_type = \"03\"  # 거래구분, 03:시장가\n",
    "    original_order_no = \"\"  # 원주문번호, 주문 정정/취소 등에서 사용\n",
    "\n",
    "    kw_obj.add_order( request_name, account_no, order_type, code, quantity, price, quote_type, original_order_no)\n",
    "    common_util.process_qt_events(False, 3)"
   ]
  },
  {
   "cell_type": "markdown",
   "metadata": {},
   "source": [
    "### 14. 주문처리(시장가 매도)"
   ]
  },
  {
   "cell_type": "code",
   "execution_count": 16,
   "metadata": {},
   "outputs": [
    {
     "name": "stderr",
     "output_type": "stream",
     "text": [
      "2022-09-07 16:58:21,624 [DEBUG]  - kw:order_waiting_entered:407\n",
      "2022-09-07 16:58:21,625 [INFO] {'rqname': '1주 시장가 신규 매도', 'screen_no': '9193', 'account_no': '4175351811', 'order_type': 2, 'code': '004410', 'quantity': 1, 'price': 0, 'quote_type': '03', 'original_order_no': ''} - kw:request_order:278\n",
      "2022-09-07 16:58:21,788 [INFO] screen_no: 9193, rq_name: 1주 시장가 신규 매도, tr_code: KOA_NORMAL_SELL_KP_ORD, msg: [505217] 장종료되었습니다 - kw:_OnReceiveMsg:485\n",
      "2022-09-07 16:58:21,791 [DEBUG] screen_no: 9193, rq_name: 1주 시장가 신규 매도, tr_code: KOA_NORMAL_SELL_KP_ORD, record_name: , prev_next:  - kw:_OnReceiveTrData:513\n",
      "2022-09-07 16:58:21,792 [WARNING] TR Receive not implemented!  - kw:_OnReceiveTrData:518\n",
      "2022-09-07 16:58:21,926 [DEBUG]  - kw:order_standby_entered:400\n"
     ]
    },
    {
     "name": "stdout",
     "output_type": "stream",
     "text": [
      "time out!\n"
     ]
    }
   ],
   "source": [
    "    request_name = \"1주 시장가 신규 매도\"  # 사용자 구분명, 구분가능한 임의의 문자열\n",
    "    account_no = kw_obj.get_first_account()   # 계좌번호 10자리, 여기서는 계좌번호 목록에서 첫번째로 발견한 계좌번호로 매수처리\n",
    "    order_type = 2  # 주문유형, 2:신규매도 \n",
    "    code = \"004410\"  # 종목코드, 서울식품 종목코드 (싼거)\n",
    "    quantity = 1  # 주문수량, 1주 매수\n",
    "    price = 0  # 주문가격, 시장가 매수는 가격 설정 의미 없으므로 기본값 0 으로 설정\n",
    "    quote_type = \"03\"  # 거래구분, 03:시장가\n",
    "    original_order_no = \"\"  # 원주문번호, 주문 정정/취소 등에서 사용\n",
    "\n",
    "    kw_obj.add_order( request_name, account_no, order_type, code, quantity, price, quote_type, original_order_no)\n",
    "    common_util.process_qt_events(False, 3)"
   ]
  }
 ],
 "metadata": {
  "kernelspec": {
   "display_name": "Python 3.9.13 ('.venv': poetry)",
   "language": "python",
   "name": "python3"
  },
  "language_info": {
   "codemirror_mode": {
    "name": "ipython",
    "version": 3
   },
   "file_extension": ".py",
   "mimetype": "text/x-python",
   "name": "python",
   "nbconvert_exporter": "python",
   "pygments_lexer": "ipython3",
   "version": "3.9.13"
  },
  "orig_nbformat": 4,
  "vscode": {
   "interpreter": {
    "hash": "d71eb3653276478abccc5fe8004c0cc68af6502efc559bace33fa82985abcaaa"
   }
  }
 },
 "nbformat": 4,
 "nbformat_minor": 2
}

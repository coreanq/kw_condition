{
 "cells": [
  {
   "cell_type": "markdown",
   "metadata": {},
   "source": [
    "* python 실행 경로 확인 \n",
    "    - python 가상 환경을 사용 중이라면 가상 환경의 path 가 맞는지 확인한다. \n"
   ]
  },
  {
   "cell_type": "code",
   "execution_count": null,
   "metadata": {},
   "outputs": [],
   "source": [
    "%gui qt5\n",
    "%matplotlib inline\n",
    "\n",
    "import matplotlib.pyplot as plt\n",
    "\n",
    "import sys\n",
    "print(sys.executable)"
   ]
  },
  {
   "cell_type": "markdown",
   "metadata": {},
   "source": [
    "### 1. 객체 생성"
   ]
  },
  {
   "cell_type": "code",
   "execution_count": null,
   "metadata": {},
   "outputs": [],
   "source": [
    "from kw_condition import KiwoomOpenApiPlus\n",
    "from kw_condition.utils import common_util\n",
    "\n",
    "from PySide2.QtWidgets import QApplication\n",
    "\n",
    "myApp = None\n",
    "if isinstance(QApplication.instance(), type(None)):\n",
    "    print('make instance')\n",
    "    myApp = QApplication([])\n",
    "else:\n",
    "    print(\"use already\")\n",
    "    myApp = QApplication.instance()\n",
    "\n",
    "kw_obj = KiwoomOpenApiPlus()"
   ]
  },
  {
   "cell_type": "markdown",
   "metadata": {},
   "source": [
    "### 2. 서버접속\n",
    "* 자동로그인이 설정되어 있는 경우 로그인이 자동으로 처리 되며, 그렇지 않은 경우 팝업 창에서 수동으로 아이디, 비밀번호 정보를 입력해야함 \n",
    "- TODO\n",
    "    * 자동 로그인 설정되지 않은 상태서 로그인 정보를 외부에서 입력한 경우 매크로로 자동처리 할수 있도록 해야함 pywinauto"
   ]
  },
  {
   "cell_type": "code",
   "execution_count": null,
   "metadata": {},
   "outputs": [],
   "source": [
    "import time\n",
    "kw_obj.tryConnect()\n",
    "\n",
    "common_util.process_qt_events(kw_obj.isConnected, 60)\n",
    "\n"
   ]
  },
  {
   "cell_type": "markdown",
   "metadata": {},
   "source": [
    "### 3. 서버 접속 상태 확인 "
   ]
  },
  {
   "cell_type": "code",
   "execution_count": null,
   "metadata": {},
   "outputs": [],
   "source": [
    "kw_obj.isConnected()"
   ]
  },
  {
   "cell_type": "markdown",
   "metadata": {},
   "source": [
    "### 4. TR (주식기본정보요청) - Single Data"
   ]
  },
  {
   "cell_type": "markdown",
   "metadata": {},
   "source": [
    "아래 처럼 직접 TR 요청에 필요한 입력값을 설정해 요청하고, 이후 들어오는 이벤트 또한 직접 처리해주는 방식으로 사용할 수 있다."
   ]
  },
  {
   "cell_type": "code",
   "execution_count": null,
   "metadata": {},
   "outputs": [],
   "source": [
    "rqname = '주식기본정보요청'\n",
    "trcode = 'opt10001'\n",
    "screen_no = '0001'  # 화면번호, 0000 을 제외한 4자리 숫자 임의로 지정, None 의 경우 내부적으로 화면번호 자동할당\n",
    "\n",
    "inputs = {'종목코드': '005930'}\n",
    "\n",
    "kw_obj.add_transaction(rqname, trcode, screen_no, inputs )\n",
    "\n",
    "common_util.process_qt_events(kw_obj.is_transaction_result_avaliable(rqname), 10)\n",
    "\n",
    "print( kw_obj.get_transaction_result(rqname) )\n"
   ]
  },
  {
   "cell_type": "markdown",
   "metadata": {},
   "source": [
    "### 4 TR (주식일봉차트조회요청) - Multi Data"
   ]
  },
  {
   "cell_type": "code",
   "execution_count": null,
   "metadata": {},
   "outputs": [],
   "source": [
    "import datetime\n",
    "\n",
    "rqname = '주식일봉차트조회요청'\n",
    "trcode = 'opt10081'\n",
    "screen_no = '0002'  # 화면번호, 0000 을 제외한 4자리 숫자 임의로 지정, None 의 경우 내부적으로 화면번호 자동할당\n",
    "\n",
    "current_time_str = datetime.datetime.now().strftime('%Y%m%d')\n",
    "\n",
    "inputs = {'종목코드': '005930', '기준일자' : current_time_str, \"수정주가구분\": '1'}\n",
    "\n",
    "kw_obj.add_transaction(rqname, trcode, screen_no, inputs )\n",
    "\n",
    "common_util.process_qt_events(kw_obj.is_transaction_result_avaliable(rqname), 10)\n",
    "\n",
    "print( kw_obj.get_transaction_result(rqname) )"
   ]
  }
 ],
 "metadata": {
  "kernelspec": {
   "display_name": "Python 3.9.13 ('.venv': poetry)",
   "language": "python",
   "name": "python3"
  },
  "language_info": {
   "codemirror_mode": {
    "name": "ipython",
    "version": 3
   },
   "file_extension": ".py",
   "mimetype": "text/x-python",
   "name": "python",
   "nbconvert_exporter": "python",
   "pygments_lexer": "ipython3",
   "version": "3.9.13"
  },
  "orig_nbformat": 4,
  "vscode": {
   "interpreter": {
    "hash": "d71eb3653276478abccc5fe8004c0cc68af6502efc559bace33fa82985abcaaa"
   }
  }
 },
 "nbformat": 4,
 "nbformat_minor": 2
}

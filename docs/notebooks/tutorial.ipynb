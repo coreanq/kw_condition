{
 "cells": [
  {
   "cell_type": "markdown",
   "metadata": {},
   "source": [
    "## *사용상 부주의로 인한 책임은 사용자에게 있습니다*\n",
    "# kw_condition\n",
    " - [키움증권 조건검색 유튜브 가이드](https://www.youtube.com/watch?v=THCpQya4bXE&t=189s&ab_channel=%EC%B0%BD%EC%9B%90%EA%B0%9C%EB%AF%B8TV)\n",
    "\n",
    "## 개발 환경  \n",
    " - Python 3.9.13 32bit\n",
    " - PySide2 5.15 >=\n",
    " - [키움증권 Open API+](https://www1.kiwoom.com/nkw.templateFrameSet.do?m=m1408000000)  \n",
    " - 파이썬 패키지 관리툴 poetry 로 패키지 자동 설치 ([가이드](https://blog.gyus.me/2020/introduce-poetry/))\n",
    " \n",
    "\n",
    " ## 개발 문서  \n",
    " - [키움 오픈 API pdf 매뉴얼](https://download.kiwoom.com/web/openapi/kiwoom_openapi_plus_devguide_ver_1.5.pdf)\n",
    "\n",
    "## 참고 소스 \n",
    " - from https://github.com/sculove/QWebview-plus\n",
    " - from https://github.com/elbakramer/koapy\n",
    "\n",
    "\n",
    "## 개발 환경 설정 \n",
    "~~~~\n",
    "# poetry 설치 (using pipx)\n",
    "> python -m pip install pipx\n",
    "> python -m pipx ensurepath\n",
    "> pipx install poetry\n",
    "\n",
    "# poetry virtualenv 환경, 프로젝트 내부 경로로 설정 \n",
    "> poetry config virtualenvs.in-project true\n",
    "> poetry config virtualenvs.path \"./.venv\"\n",
    "\n",
    "# poetry 32bit python 사용토록 설정\n",
    "> poetry env use /path/to/32bit_python/python.exe\n",
    "\n",
    "# 종속 패키지 설치 \n",
    "> poetry install\n",
    "~~~~\n",
    "\n",
    "## 사용 방법\n"
   ]
  },
  {
   "cell_type": "markdown",
   "metadata": {},
   "source": [
    " ### 0. python 실행 경로 확인 \n",
    "    - python 가상 환경을 사용 중이라면 가상 환경의 path 가 맞는지 확인한다. \n"
   ]
  },
  {
   "cell_type": "code",
   "execution_count": 1,
   "metadata": {},
   "outputs": [
    {
     "name": "stdout",
     "output_type": "stream",
     "text": [
      "d:\\1git\\kw_condition\\.venv\\Scripts\\python.exe\n"
     ]
    }
   ],
   "source": [
    "%gui qt5\n",
    "%matplotlib inline\n",
    "\n",
    "import matplotlib.pyplot as plt\n",
    "import pandas as pd\n",
    "\n",
    "import sys\n",
    "print(sys.executable)"
   ]
  },
  {
   "cell_type": "markdown",
   "metadata": {},
   "source": [
    "### 1. 객체 생성"
   ]
  },
  {
   "cell_type": "code",
   "execution_count": 2,
   "metadata": {},
   "outputs": [
    {
     "name": "stdout",
     "output_type": "stream",
     "text": [
      "make instance\n"
     ]
    }
   ],
   "source": [
    "from kw_condition import KiwoomOpenApiPlus\n",
    "from kw_condition.utils import common_util\n",
    "\n",
    "from PySide2.QtWidgets import QApplication\n",
    "\n",
    "myApp = None\n",
    "if isinstance(QApplication.instance(), type(None)):\n",
    "    print('make instance')\n",
    "    myApp = QApplication([])\n",
    "else:\n",
    "    print(\"use already\")\n",
    "    myApp = QApplication.instance()\n",
    "\n",
    "kw_obj = KiwoomOpenApiPlus()"
   ]
  },
  {
   "cell_type": "markdown",
   "metadata": {},
   "source": [
    "### 2. 서버접속\n",
    "* 자동로그인이 설정되어 있는 경우 로그인이 자동으로 처리 되며, 그렇지 않은 경우 팝업 창에서 수동으로 아이디, 비밀번호 정보를 입력해야함 \n",
    "- TODO\n",
    "    * 자동 로그인 설정되지 않은 상태서 로그인 정보를 외부에서 입력한 경우 매크로로 자동처리 할수 있도록 해야함 pywinauto"
   ]
  },
  {
   "cell_type": "code",
   "execution_count": 3,
   "metadata": {},
   "outputs": [
    {
     "name": "stdout",
     "output_type": "stream",
     "text": [
      "* 15:57:27.813471 tryConnect \n",
      "* 15:57:28.506461 disconnected_entered \n",
      "* 15:57:47.158652 _OnEventConnect  0\n",
      "* 15:57:47.176307 connected_entered \n",
      "account count: 1, keyboard_boan: 1, firewall: 2\n"
     ]
    }
   ],
   "source": [
    "kw_obj.tryConnect()\n",
    "common_util.process_qt_events(kw_obj.isConnected, 60)"
   ]
  },
  {
   "cell_type": "markdown",
   "metadata": {},
   "source": [
    "### 3. 서버 접속 상태 확인 "
   ]
  },
  {
   "cell_type": "code",
   "execution_count": 4,
   "metadata": {},
   "outputs": [
    {
     "data": {
      "text/plain": [
       "True"
      ]
     },
     "execution_count": 4,
     "metadata": {},
     "output_type": "execute_result"
    }
   ],
   "source": [
    "kw_obj.isConnected()"
   ]
  },
  {
   "cell_type": "markdown",
   "metadata": {},
   "source": [
    "### 4. 코드 번호를 통해 종목 이름 확인 "
   ]
  },
  {
   "cell_type": "code",
   "execution_count": 5,
   "metadata": {},
   "outputs": [
    {
     "data": {
      "text/plain": [
       "'005930'"
      ]
     },
     "execution_count": 5,
     "metadata": {},
     "output_type": "execute_result"
    }
   ],
   "source": [
    "name = \"삼성전자\"\n",
    "code = kw_obj.code_by_names[name]\n",
    "code "
   ]
  },
  {
   "cell_type": "markdown",
   "metadata": {},
   "source": [
    "### 5. 계좌 정보확인"
   ]
  },
  {
   "cell_type": "code",
   "execution_count": 6,
   "metadata": {},
   "outputs": [],
   "source": [
    "account_list = kw_obj.get_account_list()\n",
    "\n",
    "account_num = kw_obj.get_first_account()"
   ]
  },
  {
   "cell_type": "markdown",
   "metadata": {},
   "source": [
    "### 6. TR (주식기본정보요청) - Single Data"
   ]
  },
  {
   "cell_type": "markdown",
   "metadata": {},
   "source": [
    "아래 처럼 직접 TR 요청에 필요한 입력값을 설정해 요청하고, 이후 들어오는 이벤트 또한 직접 처리해주는 방식으로 사용할 수 있다."
   ]
  },
  {
   "cell_type": "code",
   "execution_count": 7,
   "metadata": {},
   "outputs": [
    {
     "name": "stdout",
     "output_type": "stream",
     "text": [
      "* 15:57:47.620541 request_transaction  {'rqname': '주식기본정보요청', 'trcode': 'opt10001', 'screen_no': '9199', 'prev_next': '0001', 'inputs': {'종목코드': '005930'}}\n",
      "* 15:57:47.706955 _OnReceiveTrData  sScrNo: 9199, rQName: 주식기본정보요청, trCode: opt10001, recordName: , prevNext 0\n"
     ]
    },
    {
     "data": {
      "text/plain": [
       "['005930', '+76100', '-41100', '58600']"
      ]
     },
     "execution_count": 7,
     "metadata": {},
     "output_type": "execute_result"
    }
   ],
   "source": [
    "rqname = '주식기본정보요청'\n",
    "trcode = 'opt10001'\n",
    "screen_no = '0001'  # 화면번호, 0000 과 9000 이상을 제외한 4자리 숫자 임의로 지정, screen_no 생략한 경우 임의로 화면 번호 지정 \n",
    "\n",
    "inputs = {'종목코드': '005930'}\n",
    "\n",
    "kw_obj.add_transaction(rqname, trcode, inputs, screen_no)\n",
    "\n",
    "common_util.process_qt_events(kw_obj.has_transaction_result(rqname), 5)\n",
    "\n",
    "# TR result 를 get 해야 다시 동일 rqname 으로 재요청 가능함 \n",
    "kw_obj.get_transaction_result(rqname) \n"
   ]
  },
  {
   "cell_type": "markdown",
   "metadata": {},
   "source": [
    "### 7. TR(주식일봉차트조회요청) - Multi Data  "
   ]
  },
  {
   "cell_type": "code",
   "execution_count": 8,
   "metadata": {},
   "outputs": [
    {
     "name": "stdout",
     "output_type": "stream",
     "text": [
      "* 15:57:47.918103 request_transaction  {'rqname': '주식일봉차트조회요청', 'trcode': 'opt10081', 'screen_no': '9198', 'prev_next': 0, 'inputs': {'종목코드': '005930', '기준일자': '20220830', '수정주가구분': '1'}}\n",
      "* 15:57:48.010304 _OnReceiveTrData  sScrNo: 9198, rQName: 주식일봉차트조회요청, trCode: opt10081, recordName: , prevNext 2\n",
      "600\n"
     ]
    },
    {
     "data": {
      "text/plain": [
       "[['', '20200402', '46200', '46850', '45350', '46800', '21621076'],\n",
       " ['', '20200401', '47450', '47900', '45800', '45800', '27259532'],\n",
       " ['', '20200331', '48000', '48500', '47150', '47750', '30654261'],\n",
       " ['', '20200330', '47050', '48350', '46550', '47850', '26797395'],\n",
       " ['', '20200327', '49600', '49700', '46850', '48300', '39896178']]"
      ]
     },
     "execution_count": 8,
     "metadata": {},
     "output_type": "execute_result"
    }
   ],
   "source": [
    "import datetime\n",
    "\n",
    "rqname = '주식일봉차트조회요청'\n",
    "trcode = 'opt10081'\n",
    "\n",
    "current_time_str = datetime.datetime.now().strftime('%Y%m%d')\n",
    "\n",
    "inputs = {'종목코드': '005930', '기준일자' : current_time_str, \"수정주가구분\": '1'}\n",
    "\n",
    "kw_obj.add_transaction(rqname, trcode, inputs)\n",
    "\n",
    "common_util.process_qt_events(kw_obj.has_transaction_result(rqname), 5)\n",
    "\n",
    "# result 를 get 해야 다시 동일 rqname 으로 재요청 가능함 \n",
    "\n",
    "daily_list = kw_obj.get_transaction_result(rqname)\n",
    "print( len(daily_list) )\n",
    "daily_list[-5: ] "
   ]
  },
  {
   "cell_type": "markdown",
   "metadata": {},
   "source": [
    "### 7. TR(주식일봉차트조회요청) - Multi Data - 연속 조회 "
   ]
  },
  {
   "cell_type": "code",
   "execution_count": 9,
   "metadata": {},
   "outputs": [
    {
     "name": "stdout",
     "output_type": "stream",
     "text": [
      "* 15:57:48.208714 request_transaction  {'rqname': '주식일봉차트조회요청', 'trcode': 'opt10081', 'screen_no': '9197', 'prev_next': 2, 'inputs': {'종목코드': '005930', '기준일자': '20220830', '수정주가구분': '1'}}\n",
      "* 15:57:48.281566 _OnReceiveTrData  sScrNo: 9197, rQName: 주식일봉차트조회요청, trCode: opt10081, recordName: , prevNext 2\n",
      "1200\n"
     ]
    },
    {
     "data": {
      "text/plain": [
       "[['', '20171024', '54700', '54780', '54040', '54040', '5806050'],\n",
       " ['', '20171023', '54600', '54640', '54000', '54300', '8311050'],\n",
       " ['', '20171020', '52800', '54100', '52800', '53840', '8027050'],\n",
       " ['', '20171019', '54700', '54700', '52980', '52980', '12108700'],\n",
       " ['', '20171018', '54820', '55240', '54040', '54760', '10110750']]"
      ]
     },
     "execution_count": 9,
     "metadata": {},
     "output_type": "execute_result"
    }
   ],
   "source": [
    "import datetime\n",
    "\n",
    "rqname = '주식일봉차트조회요청'\n",
    "trcode = 'opt10081'\n",
    "\n",
    "current_time_str = datetime.datetime.now().strftime('%Y%m%d')\n",
    "\n",
    "inputs = {'종목코드': '005930', '기준일자' : current_time_str, \"수정주가구분\": '1'}\n",
    "\n",
    "# 연속 조회시 prev_next 값을 2로 입력한다.  \n",
    "kw_obj.add_transaction(rqname, trcode, inputs, prev_next=2 )\n",
    "\n",
    "common_util.process_qt_events(kw_obj.has_transaction_result(rqname), 5)\n",
    "\n",
    "# result 를 get 해야 다시 동일 rqname 으로 재요청 가능함 \n",
    "daily_list.extend( kw_obj.get_transaction_result(rqname) ) \n",
    "print( len(daily_list) )\n",
    "daily_list[ -5:]\n",
    "\n",
    "\n",
    "\n"
   ]
  },
  {
   "cell_type": "markdown",
   "metadata": {},
   "source": [
    "### 8. 일봉 차트 출력 샘플"
   ]
  },
  {
   "cell_type": "code",
   "execution_count": 10,
   "metadata": {},
   "outputs": [
    {
     "name": "stdout",
     "output_type": "stream",
     "text": [
      "             Open   High    Low  Close    Volume\n",
      "Date                                            \n",
      "2017-10-18  54820  55240  54040  54760  10110750\n",
      "2017-10-19  54700  54700  52980  52980  12108700\n",
      "2017-10-20  52800  54100  52800  53840   8027050\n",
      "2017-10-23  54600  54640  54000  54300   8311050\n",
      "2017-10-24  54700  54780  54040  54040   5806050\n"
     ]
    },
    {
     "name": "stderr",
     "output_type": "stream",
     "text": [
      "d:\\1git\\kw_condition\\.venv\\lib\\site-packages\\mplfinance\\_arg_validators.py:36: UserWarning: \n",
      "\n",
      " ================================================================= \n",
      "\n",
      "   WARNING: YOU ARE PLOTTING SO MUCH DATA THAT IT MAY NOT BE\n",
      "            POSSIBLE TO SEE DETAILS (Candles, Ohlc-Bars, Etc.)\n",
      "   For more information see:\n",
      "   - https://github.com/matplotlib/mplfinance/wiki/Plotting-Too-Much-Data\n",
      "   \n",
      "   TO SILENCE THIS WARNING, set `type='line'` in `mpf.plot()`\n",
      "   OR set kwarg `warn_too_much_data=N` where N is an integer \n",
      "   LARGER than the number of data points you want to plot.\n",
      "\n",
      " ================================================================ \n",
      "  warnings.warn('\\n\\n ================================================================= '+\n"
     ]
    },
    {
     "data": {
      "image/png": "[encoded data removed]",
      "text/plain": [
       "<Figure size 800x575 with 4 Axes>"
      ]
     },
     "metadata": {},
     "output_type": "display_data"
    }
   ],
   "source": [
    "import mplfinance as mpf\n",
    "\n",
    "daily_df = pd.DataFrame( daily_list, columns=[\"StockCode\", \"Date\", \"Open\", \"High\", \"Low\", \"Close\", \"Volume\"] ) \n",
    "\n",
    "# 일봉 조회의 경우 종목 코드가 2번째 row 부터 공백이므로 삭제 \n",
    "daily_df.drop(columns='StockCode', axis =1, inplace = True)\n",
    "\n",
    "# string date -> datetime \n",
    "daily_df['Date'] = pd.to_datetime( daily_df['Date'], format = '%Y%m%d') \n",
    "\n",
    "# str to int\n",
    "selected_cols = [\"Open\", \"High\", \"Low\", \"Close\", \"Volume\"]\n",
    "daily_df[ selected_cols ] = daily_df[selected_cols].astype('int')\n",
    "\n",
    "daily_df = daily_df.set_index('Date')\n",
    "\n",
    "daily_df = daily_df.sort_values(by= 'Date')\n",
    "\n",
    "print(daily_df.head(5))\n",
    "\n",
    "# 5, 10 , 20 , 60 일 평균 선 추가 \n",
    "mpf.plot(daily_df, type='candle', mav=(5, 10, 20, 60), volume= True)\n",
    "\n"
   ]
  },
  {
   "cell_type": "markdown",
   "metadata": {},
   "source": [
    "### 9. 전종목 일봉 Excel 출력\n",
    "전체 종목의 일봉 데이터를 Excel 로 만든다 \n",
    "\n",
    "주의사항: 과도한 조회는 오류 팝업 발생 후 재접속 해야 하므로 주의!"
   ]
  },
  {
   "cell_type": "code",
   "execution_count": 11,
   "metadata": {},
   "outputs": [],
   "source": [
    "import datetime\n",
    "import pandas as pd\n",
    "import time\n",
    "\n",
    "current_time_str = datetime.datetime.now().strftime('%Y%m%d')\n",
    "\n",
    "for code in kw_obj.code_by_names.values():\n",
    "    trcode = 'opt10081'\n",
    "    stock_name = kw_obj.getMasterCodeName( code )\n",
    "    rqname = '{}: 주식일봉차트조회요청'.format( stock_name ) \n",
    "\n",
    "    inputs = {'종목코드': '{}'.format( code ), '기준일자' : current_time_str, \"수정주가구분\": '1'}\n",
    "\n",
    "    daily_list = []\n",
    "    prev_next = 0\n",
    "\n",
    "    while False:\n",
    "        kw_obj.add_transaction(rqname, trcode, inputs, prev_next = prev_next)\n",
    "        common_util.process_qt_events(kw_obj.has_transaction_result(rqname), 5)\n",
    "        \n",
    "        has_additional_data = kw_obj.has_transaction_additional_data(rqname)\n",
    "\n",
    "        # result 를 get 해야 다시 동일 rqname 으로 재요청 가능함 \n",
    "        daily_list.extend( kw_obj.get_transaction_result(rqname) )\n",
    "\n",
    "        if( has_additional_data == True ):\n",
    "            prev_next = 2\n",
    "        else:\n",
    "\n",
    "            daily_df = pd.DataFrame( daily_list, columns=[\"StockCode\", \"Date\", \"Open\", \"High\", \"Low\", \"Close\", \"Volume\"] )     \n",
    "\n",
    "            # 일봉 조회의 경우 종목 코드가 2번째 row 부터 공백이므로 삭제 \n",
    "            daily_df.drop(columns='StockCode', axis =1, inplace = True)\n",
    "\n",
    "            # string date -> datetime \n",
    "            daily_df['Date'] = pd.to_datetime( daily_df['Date'], format = '%Y%m%d') \n",
    "\n",
    "            # str to int\n",
    "            selected_cols = [\"Open\", \"High\", \"Low\", \"Close\", \"Volume\"]\n",
    "            daily_df[ selected_cols ] = daily_df[selected_cols].astype('int')\n",
    "\n",
    "            daily_df = daily_df.set_index('Date')\n",
    "\n",
    "            daily_df = daily_df.sort_values(by= 'Date')\n",
    "\n",
    "            print(daily_df.head(2))\n",
    "\n",
    "            # Excel 생성 \n",
    "            daily_df.to_excel('{}({}).xlsx'.format( stock_name, code ) )\n",
    "            time.sleep(10)\n",
    "\n",
    "            break"
   ]
  },
  {
   "cell_type": "markdown",
   "metadata": {},
   "source": [
    "### 10. TR(계좌평가잔고내역조회요청) - Multi Data "
   ]
  },
  {
   "cell_type": "code",
   "execution_count": 12,
   "metadata": {},
   "outputs": [
    {
     "name": "stdout",
     "output_type": "stream",
     "text": [
      "* 15:57:55.715962 request_transaction  {'rqname': '계좌평가잔고내역요청', 'trcode': 'opw00018', 'screen_no': '9196', 'prev_next': 0, 'inputs': {'계좌번호': '4175351811', '비밀번호': '', '비밀번호입력매체구분': '00', '조회구분': '1'}}\n",
      "* 15:57:55.836156 _OnReceiveTrData  sScrNo: 9196, rQName: 계좌평가잔고내역요청, trCode: opw00018, recordName: , prevNext \n",
      "1\n"
     ]
    },
    {
     "data": {
      "text/plain": [
       "[['KD',\n",
       "  'A044180',\n",
       "  '000000000000966',\n",
       "  '000000000961',\n",
       "  '000000000000001',\n",
       "  '000000000000001',\n",
       "  '000000000949']]"
      ]
     },
     "execution_count": 12,
     "metadata": {},
     "output_type": "execute_result"
    }
   ],
   "source": [
    "    rqname = '계좌평가잔고내역요청'\n",
    "    trcode = 'opw00018'\n",
    "\n",
    "    inputs = {'계좌번호': kw_obj.get_first_account(), '비밀번호' : '', '비밀번호입력매체구분': '00', '조회구분': '1' }\n",
    "\n",
    "    kw_obj.showAccountWindow()\n",
    "    kw_obj.add_transaction(rqname, trcode, inputs)\n",
    "\n",
    "    common_util.process_qt_events(kw_obj.has_transaction_result(rqname), 5)\n",
    "\n",
    "    # result 를 get 해야 다시 동일 rqname 으로 재요청 가능함 \n",
    "\n",
    "    jango = kw_obj.get_transaction_result(rqname)\n",
    "    print( len(jango) )\n",
    "    jango[-5: ] "
   ]
  },
  {
   "cell_type": "markdown",
   "metadata": {},
   "source": [
    "### 11. 조건 검색 (사용자 설정 조건 리스트 읽기 from HTS)\n",
    "예시의 정상동작을 위해서는 아래에서 사용되는 조건들과 같은 이름을 가지는 조건들이 미리 저장되어 있어야 한다.\n",
    "\n",
    "참고로 조건들을 편집하고 저장하는건 영웅문 HTS 내부에서만 가능하기 때문에 따로 HTS 를 열어 편집해주어야 한다."
   ]
  },
  {
   "cell_type": "code",
   "execution_count": 13,
   "metadata": {},
   "outputs": [
    {
     "name": "stdout",
     "output_type": "stream",
     "text": [
      "* 15:57:56.163139 _OnReceiveConditionVer  ret: 1, msg: [OK] 사용자 조건검색식 읽기\n",
      "{'장초반': 1, '휴식': 2, '장후반': 0, '이탈3': 4, '이탈15': 6, '새조건명': 3, '새조건명2': 5}\n"
     ]
    }
   ],
   "source": [
    "kw_obj.load_condition_names()\n",
    "common_util.process_qt_events(kw_obj.has_condition_names, 5)\n",
    "print( kw_obj.get_condition_names() )\n"
   ]
  },
  {
   "cell_type": "markdown",
   "metadata": {},
   "source": [
    "### 12. 조건검색 (사용자 조건과 일치하는 종목 리턴)\n",
    "\n",
    "위에서 서버로부터 조건명을 읽어오면 조건명을 입력하여, \n",
    "조건명에 해당하는 종목리스트를 얻어 온다 "
   ]
  },
  {
   "cell_type": "code",
   "execution_count": 14,
   "metadata": {},
   "outputs": [
    {
     "name": "stdout",
     "output_type": "stream",
     "text": [
      "* 15:57:56.333681 _OnReceiveTrCondition  scrNo: 9195, codeList: 000660;009830;019440;048410;220260;323990;, conditionName: 장초반 index: 1, next: 0\n",
      "condition list add: 000660 SK하이닉스\n",
      "condition list add: 009830 한화솔루션\n",
      "condition list add: 019440 세아특수강\n",
      "condition list add: 048410 현대바이오\n",
      "condition list add: 220260 켐트로스\n",
      "condition list add: 323990 박셀바이오\n",
      "['000660', '009830', '019440', '048410', '220260', '323990']\n"
     ]
    }
   ],
   "source": [
    "condition_name = '장초반'\n",
    "kw_obj.request_condition(condition_name)\n",
    "common_util.process_qt_events(kw_obj.has_transaction_result('condition'), 5)\n",
    "codes = kw_obj.get_transaction_result('condition')\n",
    "print(codes)\n",
    "\n"
   ]
  },
  {
   "cell_type": "markdown",
   "metadata": {},
   "source": [
    "### 13. 실시간 조건 검색 "
   ]
  },
  {
   "cell_type": "markdown",
   "metadata": {},
   "source": [
    "### 14. 주문 처리"
   ]
  },
  {
   "cell_type": "code",
   "execution_count": null,
   "metadata": {},
   "outputs": [],
   "source": []
  }
 ],
 "metadata": {
  "kernelspec": {
   "display_name": "Python 3.9.13 ('.venv': poetry)",
   "language": "python",
   "name": "python3"
  },
  "language_info": {
   "codemirror_mode": {
    "name": "ipython",
    "version": 3
   },
   "file_extension": ".py",
   "mimetype": "text/x-python",
   "name": "python",
   "nbconvert_exporter": "python",
   "pygments_lexer": "ipython3",
   "version": "3.9.13"
  },
  "orig_nbformat": 4,
  "vscode": {
   "interpreter": {
    "hash": "d71eb3653276478abccc5fe8004c0cc68af6502efc559bace33fa82985abcaaa"
   }
  }
 },
 "nbformat": 4,
 "nbformat_minor": 2
}

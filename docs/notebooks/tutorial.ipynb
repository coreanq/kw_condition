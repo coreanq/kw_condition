{
 "cells": [
  {
   "cell_type": "markdown",
   "metadata": {},
   "source": [
    "* python 실행 경로 확인 \n",
    "    - python 가상 환경을 사용 중이라면 가상 환경의 path 가 맞는지 확인한다. \n"
   ]
  },
  {
   "cell_type": "code",
   "execution_count": 1,
   "metadata": {},
   "outputs": [
    {
     "name": "stdout",
     "output_type": "stream",
     "text": [
      "d:\\1git\\kw_condition\\.venv\\Scripts\\python.exe\n"
     ]
    }
   ],
   "source": [
    "%gui qt5\n",
    "import sys\n",
    "print(sys.executable)"
   ]
  },
  {
   "cell_type": "markdown",
   "metadata": {},
   "source": [
    "* 객체 생성"
   ]
  },
  {
   "cell_type": "code",
   "execution_count": 2,
   "metadata": {},
   "outputs": [
    {
     "name": "stdout",
     "output_type": "stream",
     "text": [
      "kw_condition.backend.KiwoomOpenApiPlus <module 'kw_condition.backend.KiwoomOpenApiPlus' from 'D:\\\\1git\\\\kw_condition\\\\kw_condition\\\\backend\\\\KiwoomOpenApiPlus.py'>\n",
      "kw_condition.backend.KiwoomOpenApiPlus <module 'kw_condition.backend.KiwoomOpenApiPlus' from 'D:\\\\1git\\\\kw_condition\\\\kw_condition\\\\backend\\\\KiwoomOpenApiPlus.py'>\n",
      "use already\n"
     ]
    }
   ],
   "source": [
    "from kw_condition import KiwoomOpenApiPlus\n",
    "from PySide2.QtWidgets import QApplication\n",
    "\n",
    "myApp = None\n",
    "if isinstance(QApplication.instance(), type(None)):\n",
    "    print('make instance')\n",
    "    myApp = QApplication([])\n",
    "else:\n",
    "    print(\"use already\")\n",
    "    myApp = QApplication.instance()\n",
    "\n",
    "kw_obj = KiwoomOpenApiPlus()"
   ]
  },
  {
   "cell_type": "markdown",
   "metadata": {},
   "source": [
    "2. 서버접속"
   ]
  },
  {
   "cell_type": "code",
   "execution_count": 6,
   "metadata": {},
   "outputs": [
    {
     "name": "stdout",
     "output_type": "stream",
     "text": [
      "* 17:20:47.863575 tryConnect \n",
      "* 17:20:48.013282 isConnected \n"
     ]
    }
   ],
   "source": [
    "import time\n",
    "kw_obj.tryConnect()\n",
    "\n",
    "loop_count = 0\n",
    "while kw_obj.isConnected() == False:\n",
    "    loop_count = loop_count + 1\n",
    "    time.sleep(1)\n",
    "    QApplication.processEvents()\n",
    "    if( loop_count > 30 ) :\n",
    "        print('connect failed!')\n",
    "        break\n",
    "\n"
   ]
  },
  {
   "cell_type": "markdown",
   "metadata": {},
   "source": [
    "3. 서버 접속 상태 확인 "
   ]
  },
  {
   "cell_type": "code",
   "execution_count": null,
   "metadata": {},
   "outputs": [],
   "source": [
    "kw_obj.isConnected()"
   ]
  }
 ],
 "metadata": {
  "kernelspec": {
   "display_name": "Python 3.9.13 ('.venv': poetry)",
   "language": "python",
   "name": "python3"
  },
  "language_info": {
   "codemirror_mode": {
    "name": "ipython",
    "version": 3
   },
   "file_extension": ".py",
   "mimetype": "text/x-python",
   "name": "python",
   "nbconvert_exporter": "python",
   "pygments_lexer": "ipython3",
   "version": "3.9.13"
  },
  "orig_nbformat": 4,
  "vscode": {
   "interpreter": {
    "hash": "d71eb3653276478abccc5fe8004c0cc68af6502efc559bace33fa82985abcaaa"
   }
  }
 },
 "nbformat": 4,
 "nbformat_minor": 2
}
